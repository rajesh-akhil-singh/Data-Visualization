{
 "cells": [
  {
   "cell_type": "code",
   "execution_count": 1,
   "metadata": {},
   "outputs": [],
   "source": [
    "import numpy as np\n",
    "import pandas as pd\n",
    "import os\n",
    "import seaborn as sns"
   ]
  },
  {
   "cell_type": "code",
   "execution_count": 2,
   "metadata": {},
   "outputs": [
    {
     "data": {
      "text/plain": [
       "'C:\\\\Users\\\\91903\\\\Desktop\\\\Projects\\\\DataSets'"
      ]
     },
     "execution_count": 2,
     "metadata": {},
     "output_type": "execute_result"
    }
   ],
   "source": [
    "os.getcwd()"
   ]
  },
  {
   "cell_type": "code",
   "execution_count": 3,
   "metadata": {},
   "outputs": [
    {
     "data": {
      "text/html": [
       "<div>\n",
       "<style scoped>\n",
       "    .dataframe tbody tr th:only-of-type {\n",
       "        vertical-align: middle;\n",
       "    }\n",
       "\n",
       "    .dataframe tbody tr th {\n",
       "        vertical-align: top;\n",
       "    }\n",
       "\n",
       "    .dataframe thead th {\n",
       "        text-align: right;\n",
       "    }\n",
       "</style>\n",
       "<table border=\"1\" class=\"dataframe\">\n",
       "  <thead>\n",
       "    <tr style=\"text-align: right;\">\n",
       "      <th></th>\n",
       "      <th>Name</th>\n",
       "      <th>Position</th>\n",
       "      <th>Age</th>\n",
       "      <th>Team_from</th>\n",
       "      <th>League_from</th>\n",
       "      <th>Team_to</th>\n",
       "      <th>League_to</th>\n",
       "      <th>Season</th>\n",
       "      <th>Market_value</th>\n",
       "      <th>Transfer_fee</th>\n",
       "    </tr>\n",
       "  </thead>\n",
       "  <tbody>\n",
       "    <tr>\n",
       "      <th>0</th>\n",
       "      <td>Kylian Mbappé</td>\n",
       "      <td>Right Winger</td>\n",
       "      <td>19</td>\n",
       "      <td>Monaco</td>\n",
       "      <td>Ligue 1</td>\n",
       "      <td>Paris SG</td>\n",
       "      <td>Ligue 1</td>\n",
       "      <td>2018</td>\n",
       "      <td>120000000.0</td>\n",
       "      <td>135000000</td>\n",
       "    </tr>\n",
       "    <tr>\n",
       "      <th>1</th>\n",
       "      <td>Cristiano Ronaldo</td>\n",
       "      <td>Centre-Forward</td>\n",
       "      <td>33</td>\n",
       "      <td>Real Madrid</td>\n",
       "      <td>LaLiga</td>\n",
       "      <td>Juventus</td>\n",
       "      <td>Serie A</td>\n",
       "      <td>2018</td>\n",
       "      <td>100000000.0</td>\n",
       "      <td>117000000</td>\n",
       "    </tr>\n",
       "    <tr>\n",
       "      <th>2</th>\n",
       "      <td>Neymar</td>\n",
       "      <td>Left Winger</td>\n",
       "      <td>25</td>\n",
       "      <td>FC Barcelona</td>\n",
       "      <td>LaLiga</td>\n",
       "      <td>Paris SG</td>\n",
       "      <td>Ligue 1</td>\n",
       "      <td>2017</td>\n",
       "      <td>100000000.0</td>\n",
       "      <td>222000000</td>\n",
       "    </tr>\n",
       "    <tr>\n",
       "      <th>3</th>\n",
       "      <td>Riyad Mahrez</td>\n",
       "      <td>Right Winger</td>\n",
       "      <td>27</td>\n",
       "      <td>Leicester</td>\n",
       "      <td>Premier League</td>\n",
       "      <td>Man City</td>\n",
       "      <td>Premier League</td>\n",
       "      <td>2018</td>\n",
       "      <td>50000000.0</td>\n",
       "      <td>67800000</td>\n",
       "    </tr>\n",
       "    <tr>\n",
       "      <th>4</th>\n",
       "      <td>Alisson</td>\n",
       "      <td>Goalkeeper</td>\n",
       "      <td>25</td>\n",
       "      <td>AS Roma</td>\n",
       "      <td>Serie A</td>\n",
       "      <td>Liverpool</td>\n",
       "      <td>Premier League</td>\n",
       "      <td>2018</td>\n",
       "      <td>60000000.0</td>\n",
       "      <td>62500000</td>\n",
       "    </tr>\n",
       "  </tbody>\n",
       "</table>\n",
       "</div>"
      ],
      "text/plain": [
       "                Name        Position  Age     Team_from     League_from  \\\n",
       "0      Kylian Mbappé    Right Winger   19        Monaco         Ligue 1   \n",
       "1  Cristiano Ronaldo  Centre-Forward   33   Real Madrid          LaLiga   \n",
       "2             Neymar     Left Winger   25  FC Barcelona          LaLiga   \n",
       "3       Riyad Mahrez    Right Winger   27     Leicester  Premier League   \n",
       "4            Alisson      Goalkeeper   25       AS Roma         Serie A   \n",
       "\n",
       "     Team_to       League_to  Season  Market_value  Transfer_fee  \n",
       "0   Paris SG         Ligue 1    2018   120000000.0     135000000  \n",
       "1   Juventus         Serie A    2018   100000000.0     117000000  \n",
       "2   Paris SG         Ligue 1    2017   100000000.0     222000000  \n",
       "3   Man City  Premier League    2018    50000000.0      67800000  \n",
       "4  Liverpool  Premier League    2018    60000000.0      62500000  "
      ]
     },
     "execution_count": 3,
     "metadata": {},
     "output_type": "execute_result"
    }
   ],
   "source": [
    "trans = pd.read_csv(\"Top250transfers.csv\")\n",
    "trans.head()"
   ]
  },
  {
   "cell_type": "code",
   "execution_count": 4,
   "metadata": {
    "scrolled": true
   },
   "outputs": [
    {
     "name": "stdout",
     "output_type": "stream",
     "text": [
      "<class 'pandas.core.frame.DataFrame'>\n",
      "RangeIndex: 4700 entries, 0 to 4699\n",
      "Data columns (total 10 columns):\n",
      "Name            4700 non-null object\n",
      "Position        4700 non-null object\n",
      "Age             4700 non-null int64\n",
      "Team_from       4700 non-null object\n",
      "League_from     4700 non-null object\n",
      "Team_to         4700 non-null object\n",
      "League_to       4700 non-null object\n",
      "Season          4700 non-null int64\n",
      "Market_value    3440 non-null float64\n",
      "Transfer_fee    4700 non-null int64\n",
      "dtypes: float64(1), int64(3), object(6)\n",
      "memory usage: 257.1+ KB\n"
     ]
    }
   ],
   "source": [
    "trans.info()"
   ]
  },
  {
   "cell_type": "markdown",
   "metadata": {},
   "source": [
    "# Changing Transfer fee and Market values interms of millions"
   ]
  },
  {
   "cell_type": "code",
   "execution_count": 5,
   "metadata": {
    "scrolled": true
   },
   "outputs": [],
   "source": [
    "Transfer_fee = pd.DataFrame(trans[\"Transfer_fee\"])\n",
    "Transfer_fee = (Transfer_fee / 1000000)\n",
    "trans[\"Transfer_fee\"] = Transfer_fee\n",
    "\n",
    "Market_value = pd.DataFrame(trans[\"Market_value\"])\n",
    "Market_value = (Market_value / 1000000)\n",
    "trans[\"Market_value\"] = Market_value\n"
   ]
  },
  {
   "cell_type": "markdown",
   "metadata": {},
   "source": [
    "# Dropping Forward ; Sweeper ; Midfielder and Defender positions"
   ]
  },
  {
   "cell_type": "code",
   "execution_count": 6,
   "metadata": {
    "scrolled": true
   },
   "outputs": [
    {
     "data": {
      "text/plain": [
       "Centre-Forward        1218\n",
       "Centre-Back            714\n",
       "Central Midfield       487\n",
       "Attacking Midfield     426\n",
       "Defensive Midfield     411\n",
       "Right Winger           305\n",
       "Left Winger            267\n",
       "Left-Back              225\n",
       "Right-Back             181\n",
       "Goalkeeper             180\n",
       "Second Striker         130\n",
       "Left Midfield           87\n",
       "Right Midfield          63\n",
       "Name: Position, dtype: int64"
      ]
     },
     "execution_count": 6,
     "metadata": {},
     "output_type": "execute_result"
    }
   ],
   "source": [
    "trans = trans.loc[~((trans['Position'] == 'Sweeper') | (trans['Position'] == 'Forward') | (trans['Position'] == 'Defender') | (trans['Position'] == 'Midfielder'))]\n",
    "trans[\"Position\"].value_counts()"
   ]
  },
  {
   "cell_type": "markdown",
   "metadata": {},
   "source": [
    "# Reducing the length of Position names"
   ]
  },
  {
   "cell_type": "code",
   "execution_count": 7,
   "metadata": {},
   "outputs": [],
   "source": [
    "trans[\"Position\"] = trans[\"Position\"].replace({'Centre-Forward': 'CF', 'Centre-Back': 'CB', 'Central Midfield': 'CM', 'Attacking Midfield': 'AM', 'Defensive Midfield': 'DM', 'Right Winger': 'RW','Left Winger': 'LW', 'Left-Back': 'LB', \"Right-Back\": 'RB', 'Goalkeeper': 'GK', 'Second Striker': 'SST', 'Left Midfield': 'LM', 'Right Midfield': 'RM', 'Forward': 'FW'})"
   ]
  },
  {
   "cell_type": "markdown",
   "metadata": {},
   "source": [
    "\n",
    "# Plot Displaying the Positions with the most number of transfers"
   ]
  },
  {
   "cell_type": "code",
   "execution_count": 9,
   "metadata": {
    "scrolled": true
   },
   "outputs": [
    {
     "data": {
      "text/plain": [
       "<seaborn.axisgrid.FacetGrid at 0x1c7782b0>"
      ]
     },
     "execution_count": 9,
     "metadata": {},
     "output_type": "execute_result"
    },
    {
     "data": {
      "image/png": "[encoded data removed]",
      "text/plain": [
       "<Figure size 360x360 with 1 Axes>"
      ]
     },
     "metadata": {
      "needs_background": "light"
     },
     "output_type": "display_data"
    }
   ],
   "source": [
    "a1 = sns.catplot(x=\"Position\",data=trans,kind = \"count\")\n",
    "a1.set(title = \"Positions with Most number of Transfers \")"
   ]
  },
  {
   "cell_type": "markdown",
   "metadata": {},
   "source": [
    "In the above plot, we can see that players who are playing as Centre-Forwards had the maximum number of transfers with a count of 1218, followed by Centre-backs and Center-Midfield with 714 and 487 respectively."
   ]
  },
  {
   "cell_type": "markdown",
   "metadata": {},
   "source": [
    "# Positions with the Highest Transfer Fees"
   ]
  },
  {
   "cell_type": "code",
   "execution_count": 10,
   "metadata": {
    "scrolled": true
   },
   "outputs": [
    {
     "data": {
      "text/plain": [
       "<seaborn.axisgrid.FacetGrid at 0x167cb1b0>"
      ]
     },
     "execution_count": 10,
     "metadata": {},
     "output_type": "execute_result"
    },
    {
     "data": {
      "image/png": "[encoded data removed]",
      "text/plain": [
       "<Figure size 360x360 with 1 Axes>"
      ]
     },
     "metadata": {
      "needs_background": "light"
     },
     "output_type": "display_data"
    }
   ],
   "source": [
    "a2 = sns.catplot(y=\"Transfer_fee\",x=\"Position\",data=trans,kind = \"bar\")\n",
    "a2.set(title = \"Positions with Highest Transfer Fees \")"
   ]
  },
  {
   "cell_type": "markdown",
   "metadata": {},
   "source": [
    "Even though Centre-Forwards had the most number of Transfers, Left-Wingers had the highest transfers of all the positions.\n",
    "This is majorly influnced by transfer of Neymar Initially from Santos FC to FC Barcelona and later from FC Barcelona to PSG."
   ]
  },
  {
   "cell_type": "code",
   "execution_count": 11,
   "metadata": {},
   "outputs": [],
   "source": [
    "season_cost = trans.loc[:,[\"Season\",\"Transfer_fee\"]]\n",
    "season_cost = season_cost.groupby(['Season']).sum()\n",
    "season_cost = season_cost.rename_axis('Season').reset_index()"
   ]
  },
  {
   "cell_type": "markdown",
   "metadata": {},
   "source": [
    "# Trend of Transfer Fees over the period between 2000-2018"
   ]
  },
  {
   "cell_type": "code",
   "execution_count": 12,
   "metadata": {},
   "outputs": [
    {
     "data": {
      "text/plain": [
       "[Text(0.5, 1.0, 'Change of Transfer Fee over Multiple Seasons')]"
      ]
     },
     "execution_count": 12,
     "metadata": {},
     "output_type": "execute_result"
    },
    {
     "data": {
      "image/png": "[encoded data removed]",
      "text/plain": [
       "<Figure size 432x288 with 1 Axes>"
      ]
     },
     "metadata": {},
     "output_type": "display_data"
    }
   ],
   "source": [
    "sns.set(style=\"whitegrid\")\n",
    "a3 = sns.lineplot(x=\"Season\",y=\"Transfer_fee\",data=season_cost)\n",
    "a3.set(xlabel = \"Season\", ylabel = \"Transfer Fee (In Millions)\")\n",
    "a3.set(title = \"Change of Transfer Fee over Multiple Seasons\")"
   ]
  },
  {
   "cell_type": "markdown",
   "metadata": {},
   "source": [
    "Highest transfer fees were observed in the 2017-2018 Season with a total spending of 4748.180 Millions.\n",
    "Sharp increase observed from 2014-15 & 2015-16 season"
   ]
  },
  {
   "cell_type": "code",
   "execution_count": 13,
   "metadata": {},
   "outputs": [
    {
     "data": {
      "text/html": [
       "<div>\n",
       "<style scoped>\n",
       "    .dataframe tbody tr th:only-of-type {\n",
       "        vertical-align: middle;\n",
       "    }\n",
       "\n",
       "    .dataframe tbody tr th {\n",
       "        vertical-align: top;\n",
       "    }\n",
       "\n",
       "    .dataframe thead th {\n",
       "        text-align: right;\n",
       "    }\n",
       "</style>\n",
       "<table border=\"1\" class=\"dataframe\">\n",
       "  <thead>\n",
       "    <tr style=\"text-align: right;\">\n",
       "      <th></th>\n",
       "      <th>Name</th>\n",
       "      <th>Position</th>\n",
       "      <th>Age</th>\n",
       "      <th>Team_from</th>\n",
       "      <th>League_from</th>\n",
       "      <th>Team_to</th>\n",
       "      <th>League_to</th>\n",
       "      <th>Season</th>\n",
       "      <th>Market_value</th>\n",
       "      <th>Transfer_fee</th>\n",
       "    </tr>\n",
       "  </thead>\n",
       "  <tbody>\n",
       "    <tr>\n",
       "      <th>2</th>\n",
       "      <td>Neymar</td>\n",
       "      <td>LW</td>\n",
       "      <td>25</td>\n",
       "      <td>FC Barcelona</td>\n",
       "      <td>LaLiga</td>\n",
       "      <td>Paris SG</td>\n",
       "      <td>Ligue 1</td>\n",
       "      <td>2017</td>\n",
       "      <td>100.0</td>\n",
       "      <td>222.0</td>\n",
       "    </tr>\n",
       "    <tr>\n",
       "      <th>0</th>\n",
       "      <td>Kylian Mbappé</td>\n",
       "      <td>RW</td>\n",
       "      <td>19</td>\n",
       "      <td>Monaco</td>\n",
       "      <td>Ligue 1</td>\n",
       "      <td>Paris SG</td>\n",
       "      <td>Ligue 1</td>\n",
       "      <td>2018</td>\n",
       "      <td>120.0</td>\n",
       "      <td>135.0</td>\n",
       "    </tr>\n",
       "    <tr>\n",
       "      <th>246</th>\n",
       "      <td>Philippe Coutinho</td>\n",
       "      <td>AM</td>\n",
       "      <td>25</td>\n",
       "      <td>Liverpool</td>\n",
       "      <td>Premier League</td>\n",
       "      <td>FC Barcelona</td>\n",
       "      <td>LaLiga</td>\n",
       "      <td>2017</td>\n",
       "      <td>90.0</td>\n",
       "      <td>125.0</td>\n",
       "    </tr>\n",
       "    <tr>\n",
       "      <th>1</th>\n",
       "      <td>Cristiano Ronaldo</td>\n",
       "      <td>CF</td>\n",
       "      <td>33</td>\n",
       "      <td>Real Madrid</td>\n",
       "      <td>LaLiga</td>\n",
       "      <td>Juventus</td>\n",
       "      <td>Serie A</td>\n",
       "      <td>2018</td>\n",
       "      <td>100.0</td>\n",
       "      <td>117.0</td>\n",
       "    </tr>\n",
       "    <tr>\n",
       "      <th>247</th>\n",
       "      <td>Ousmane Dembélé</td>\n",
       "      <td>RW</td>\n",
       "      <td>20</td>\n",
       "      <td>Bor. Dortmund</td>\n",
       "      <td>1.Bundesliga</td>\n",
       "      <td>FC Barcelona</td>\n",
       "      <td>LaLiga</td>\n",
       "      <td>2017</td>\n",
       "      <td>33.0</td>\n",
       "      <td>115.0</td>\n",
       "    </tr>\n",
       "    <tr>\n",
       "      <th>489</th>\n",
       "      <td>Paul Pogba</td>\n",
       "      <td>CM</td>\n",
       "      <td>23</td>\n",
       "      <td>Juventus</td>\n",
       "      <td>Serie A</td>\n",
       "      <td>Man Utd</td>\n",
       "      <td>Premier League</td>\n",
       "      <td>2016</td>\n",
       "      <td>70.0</td>\n",
       "      <td>105.0</td>\n",
       "    </tr>\n",
       "    <tr>\n",
       "      <th>1233</th>\n",
       "      <td>Gareth Bale</td>\n",
       "      <td>RW</td>\n",
       "      <td>24</td>\n",
       "      <td>Spurs</td>\n",
       "      <td>Premier League</td>\n",
       "      <td>Real Madrid</td>\n",
       "      <td>LaLiga</td>\n",
       "      <td>2013</td>\n",
       "      <td>65.0</td>\n",
       "      <td>101.0</td>\n",
       "    </tr>\n",
       "    <tr>\n",
       "      <th>2225</th>\n",
       "      <td>Cristiano Ronaldo</td>\n",
       "      <td>CF</td>\n",
       "      <td>24</td>\n",
       "      <td>Man Utd</td>\n",
       "      <td>Premier League</td>\n",
       "      <td>Real Madrid</td>\n",
       "      <td>LaLiga</td>\n",
       "      <td>2009</td>\n",
       "      <td>60.0</td>\n",
       "      <td>94.0</td>\n",
       "    </tr>\n",
       "    <tr>\n",
       "      <th>490</th>\n",
       "      <td>Gonzalo Higuaín</td>\n",
       "      <td>CF</td>\n",
       "      <td>28</td>\n",
       "      <td>SSC Napoli</td>\n",
       "      <td>Serie A</td>\n",
       "      <td>Juventus</td>\n",
       "      <td>Serie A</td>\n",
       "      <td>2016</td>\n",
       "      <td>65.0</td>\n",
       "      <td>90.0</td>\n",
       "    </tr>\n",
       "    <tr>\n",
       "      <th>9</th>\n",
       "      <td>Neymar</td>\n",
       "      <td>LW</td>\n",
       "      <td>21</td>\n",
       "      <td>Santos FC</td>\n",
       "      <td>Série A</td>\n",
       "      <td>FC Barcelona</td>\n",
       "      <td>LaLiga</td>\n",
       "      <td>2013</td>\n",
       "      <td>50.0</td>\n",
       "      <td>88.2</td>\n",
       "    </tr>\n",
       "  </tbody>\n",
       "</table>\n",
       "</div>"
      ],
      "text/plain": [
       "                   Name Position  Age      Team_from     League_from  \\\n",
       "2                Neymar       LW   25   FC Barcelona          LaLiga   \n",
       "0         Kylian Mbappé       RW   19         Monaco         Ligue 1   \n",
       "246   Philippe Coutinho       AM   25      Liverpool  Premier League   \n",
       "1     Cristiano Ronaldo       CF   33    Real Madrid          LaLiga   \n",
       "247     Ousmane Dembélé       RW   20  Bor. Dortmund    1.Bundesliga   \n",
       "489          Paul Pogba       CM   23       Juventus         Serie A   \n",
       "1233        Gareth Bale       RW   24          Spurs  Premier League   \n",
       "2225  Cristiano Ronaldo       CF   24        Man Utd  Premier League   \n",
       "490     Gonzalo Higuaín       CF   28     SSC Napoli         Serie A   \n",
       "9                Neymar       LW   21      Santos FC         Série A   \n",
       "\n",
       "           Team_to       League_to  Season  Market_value  Transfer_fee  \n",
       "2         Paris SG         Ligue 1    2017         100.0         222.0  \n",
       "0         Paris SG         Ligue 1    2018         120.0         135.0  \n",
       "246   FC Barcelona          LaLiga    2017          90.0         125.0  \n",
       "1         Juventus         Serie A    2018         100.0         117.0  \n",
       "247   FC Barcelona          LaLiga    2017          33.0         115.0  \n",
       "489        Man Utd  Premier League    2016          70.0         105.0  \n",
       "1233   Real Madrid          LaLiga    2013          65.0         101.0  \n",
       "2225   Real Madrid          LaLiga    2009          60.0          94.0  \n",
       "490       Juventus         Serie A    2016          65.0          90.0  \n",
       "9     FC Barcelona          LaLiga    2013          50.0          88.2  "
      ]
     },
     "execution_count": 13,
     "metadata": {},
     "output_type": "execute_result"
    }
   ],
   "source": [
    "#Obtaining top and bottom 10 players based on transfer fee\n",
    "top10 = trans.sort_values(by=['Transfer_fee'], ascending = False)[0:10]\n",
    "bottom10 = trans.sort_values(by=['Transfer_fee'])[0:10]\n",
    "top10"
   ]
  },
  {
   "cell_type": "markdown",
   "metadata": {},
   "source": [
    "# Positions and Transfer Fees for Top 10 Players"
   ]
  },
  {
   "cell_type": "code",
   "execution_count": 14,
   "metadata": {},
   "outputs": [
    {
     "data": {
      "text/plain": [
       "[Text(0.5, 1.0, 'Position Vs Transfer Fees for Top 10 Players')]"
      ]
     },
     "execution_count": 14,
     "metadata": {},
     "output_type": "execute_result"
    },
    {
     "data": {
      "image/png": "[encoded data removed]",
      "text/plain": [
       "<Figure size 432x288 with 1 Axes>"
      ]
     },
     "metadata": {},
     "output_type": "display_data"
    }
   ],
   "source": [
    "a4=sns.lineplot(x=\"Position\", y=\"Transfer_fee\", data=top10)\n",
    "a4.set(xlabel = \"Position\" , ylabel = \"Avg. Transfer Fee\" )\n",
    "a4.set(title = \"Position Vs Transfer Fees for Top 10 Players\")"
   ]
  },
  {
   "cell_type": "markdown",
   "metadata": {},
   "source": [
    "The Left Wing position has the highest average transfer fee. Again, the reason for this is the transfer(s) of Neymar.\n",
    "Apart from Neymar, Cristiano Ronaldo is the only other player who has appeared twice in the above Top10 list.\n"
   ]
  },
  {
   "cell_type": "markdown",
   "metadata": {},
   "source": [
    "# Positions and Transfer Fees for Bottom 10 Players"
   ]
  },
  {
   "cell_type": "code",
   "execution_count": 15,
   "metadata": {},
   "outputs": [
    {
     "data": {
      "text/plain": [
       "[Text(0.5, 1.0, 'Position Vs Transfer Fees for Bottom 10 Players')]"
      ]
     },
     "execution_count": 15,
     "metadata": {},
     "output_type": "execute_result"
    },
    {
     "data": {
      "image/png": "[encoded data removed]",
      "text/plain": [
       "<Figure size 432x288 with 1 Axes>"
      ]
     },
     "metadata": {},
     "output_type": "display_data"
    }
   ],
   "source": [
    "a5= sns.lineplot(x=\"Position\", y=\"Transfer_fee\", data=bottom10)\n",
    "a5.set(xlabel = \"Position\" , ylabel = \"Avg. Transfer Fee\" )\n",
    "a5.set(title = \"Position Vs Transfer Fees for Bottom 10 Players\")"
   ]
  },
  {
   "cell_type": "markdown",
   "metadata": {},
   "source": [
    "The bottom10 players all had a transfer fee of less than one million. \n"
   ]
  },
  {
   "cell_type": "code",
   "execution_count": 16,
   "metadata": {},
   "outputs": [
    {
     "data": {
      "text/html": [
       "<div>\n",
       "<style scoped>\n",
       "    .dataframe tbody tr th:only-of-type {\n",
       "        vertical-align: middle;\n",
       "    }\n",
       "\n",
       "    .dataframe tbody tr th {\n",
       "        vertical-align: top;\n",
       "    }\n",
       "\n",
       "    .dataframe thead th {\n",
       "        text-align: right;\n",
       "    }\n",
       "</style>\n",
       "<table border=\"1\" class=\"dataframe\">\n",
       "  <thead>\n",
       "    <tr style=\"text-align: right;\">\n",
       "      <th></th>\n",
       "      <th>Team</th>\n",
       "      <th>Count</th>\n",
       "    </tr>\n",
       "  </thead>\n",
       "  <tbody>\n",
       "    <tr>\n",
       "      <th>0</th>\n",
       "      <td>Inter</td>\n",
       "      <td>97</td>\n",
       "    </tr>\n",
       "    <tr>\n",
       "      <th>1</th>\n",
       "      <td>Chelsea</td>\n",
       "      <td>96</td>\n",
       "    </tr>\n",
       "    <tr>\n",
       "      <th>2</th>\n",
       "      <td>Man City</td>\n",
       "      <td>94</td>\n",
       "    </tr>\n",
       "    <tr>\n",
       "      <th>3</th>\n",
       "      <td>Spurs</td>\n",
       "      <td>93</td>\n",
       "    </tr>\n",
       "    <tr>\n",
       "      <th>4</th>\n",
       "      <td>Juventus</td>\n",
       "      <td>87</td>\n",
       "    </tr>\n",
       "    <tr>\n",
       "      <th>5</th>\n",
       "      <td>Liverpool</td>\n",
       "      <td>85</td>\n",
       "    </tr>\n",
       "    <tr>\n",
       "      <th>6</th>\n",
       "      <td>AS Roma</td>\n",
       "      <td>77</td>\n",
       "    </tr>\n",
       "    <tr>\n",
       "      <th>7</th>\n",
       "      <td>Real Madrid</td>\n",
       "      <td>75</td>\n",
       "    </tr>\n",
       "    <tr>\n",
       "      <th>8</th>\n",
       "      <td>FC Barcelona</td>\n",
       "      <td>70</td>\n",
       "    </tr>\n",
       "    <tr>\n",
       "      <th>9</th>\n",
       "      <td>Atlético Madrid</td>\n",
       "      <td>69</td>\n",
       "    </tr>\n",
       "  </tbody>\n",
       "</table>\n",
       "</div>"
      ],
      "text/plain": [
       "              Team  Count\n",
       "0            Inter     97\n",
       "1          Chelsea     96\n",
       "2         Man City     94\n",
       "3            Spurs     93\n",
       "4         Juventus     87\n",
       "5        Liverpool     85\n",
       "6          AS Roma     77\n",
       "7      Real Madrid     75\n",
       "8     FC Barcelona     70\n",
       "9  Atlético Madrid     69"
      ]
     },
     "execution_count": 16,
     "metadata": {},
     "output_type": "execute_result"
    }
   ],
   "source": [
    "#Getting top 10 teams and Leagues where players have transferred to\n",
    "\n",
    "league_to = trans.loc[:,['League_to']]\n",
    "league_to = pd.DataFrame(league_to)\n",
    "league_to = league_to['League_to'].value_counts()[0:10]\n",
    "league_to = pd.DataFrame(league_to)\n",
    "league_to.index.name = \"League\"\n",
    "league_to = league_to.rename_axis('League').reset_index()\n",
    "league_to.columns = ['League','Count']\n",
    "league_to\n",
    "\n",
    "team_to = trans.loc[:,['Team_to']]\n",
    "team_to = pd.DataFrame(team_to)\n",
    "team_to = team_to['Team_to'].value_counts()[0:10]\n",
    "team_to = pd.DataFrame(team_to)\n",
    "team_to.index.name = \"Team\"\n",
    "team_to = team_to.rename_axis('team').reset_index()\n",
    "team_to.columns = ['Team','Count']\n",
    "team_to"
   ]
  },
  {
   "cell_type": "code",
   "execution_count": 17,
   "metadata": {},
   "outputs": [
    {
     "data": {
      "text/html": [
       "<div>\n",
       "<style scoped>\n",
       "    .dataframe tbody tr th:only-of-type {\n",
       "        vertical-align: middle;\n",
       "    }\n",
       "\n",
       "    .dataframe tbody tr th {\n",
       "        vertical-align: top;\n",
       "    }\n",
       "\n",
       "    .dataframe thead th {\n",
       "        text-align: right;\n",
       "    }\n",
       "</style>\n",
       "<table border=\"1\" class=\"dataframe\">\n",
       "  <thead>\n",
       "    <tr style=\"text-align: right;\">\n",
       "      <th></th>\n",
       "      <th>Team</th>\n",
       "      <th>Count</th>\n",
       "    </tr>\n",
       "  </thead>\n",
       "  <tbody>\n",
       "    <tr>\n",
       "      <th>0</th>\n",
       "      <td>Inter</td>\n",
       "      <td>68</td>\n",
       "    </tr>\n",
       "    <tr>\n",
       "      <th>1</th>\n",
       "      <td>Spurs</td>\n",
       "      <td>63</td>\n",
       "    </tr>\n",
       "    <tr>\n",
       "      <th>2</th>\n",
       "      <td>Juventus</td>\n",
       "      <td>59</td>\n",
       "    </tr>\n",
       "    <tr>\n",
       "      <th>3</th>\n",
       "      <td>Chelsea</td>\n",
       "      <td>57</td>\n",
       "    </tr>\n",
       "    <tr>\n",
       "      <th>4</th>\n",
       "      <td>Liverpool</td>\n",
       "      <td>56</td>\n",
       "    </tr>\n",
       "    <tr>\n",
       "      <th>5</th>\n",
       "      <td>FC Porto</td>\n",
       "      <td>56</td>\n",
       "    </tr>\n",
       "    <tr>\n",
       "      <th>6</th>\n",
       "      <td>Real Madrid</td>\n",
       "      <td>53</td>\n",
       "    </tr>\n",
       "    <tr>\n",
       "      <th>7</th>\n",
       "      <td>Benfica</td>\n",
       "      <td>52</td>\n",
       "    </tr>\n",
       "    <tr>\n",
       "      <th>8</th>\n",
       "      <td>Atlético Madrid</td>\n",
       "      <td>52</td>\n",
       "    </tr>\n",
       "    <tr>\n",
       "      <th>9</th>\n",
       "      <td>Udinese Calcio</td>\n",
       "      <td>51</td>\n",
       "    </tr>\n",
       "  </tbody>\n",
       "</table>\n",
       "</div>"
      ],
      "text/plain": [
       "              Team  Count\n",
       "0            Inter     68\n",
       "1            Spurs     63\n",
       "2         Juventus     59\n",
       "3          Chelsea     57\n",
       "4        Liverpool     56\n",
       "5         FC Porto     56\n",
       "6      Real Madrid     53\n",
       "7          Benfica     52\n",
       "8  Atlético Madrid     52\n",
       "9   Udinese Calcio     51"
      ]
     },
     "execution_count": 17,
     "metadata": {},
     "output_type": "execute_result"
    }
   ],
   "source": [
    "#Getting top 10 teams and Leagues where players have transferred to\n",
    "\n",
    "league_from = trans.loc[:,['League_from']]\n",
    "league_from = pd.DataFrame(league_from)\n",
    "league_from = league_from['League_from'].value_counts()[0:10]\n",
    "league_from = pd.DataFrame(league_from)\n",
    "league_from.index.name = \"Team\"\n",
    "league_from = league_from.rename_axis('team').reset_index()\n",
    "league_from.columns = ['League','Count']\n",
    "league_from\n",
    "\n",
    "team_from = trans.loc[:,['Team_from']]\n",
    "team_from = pd.DataFrame(team_from)\n",
    "team_from = team_from['Team_from'].value_counts()[0:10]\n",
    "team_from = pd.DataFrame(team_from)\n",
    "team_from.index.name = \"Team\"\n",
    "team_from = team_from.rename_axis('team').reset_index()\n",
    "team_from.columns = ['Team','Count']\n",
    "team_from"
   ]
  },
  {
   "cell_type": "markdown",
   "metadata": {},
   "source": [
    "# Plot displaying leagues to which majority players have transferred to"
   ]
  },
  {
   "cell_type": "code",
   "execution_count": 18,
   "metadata": {},
   "outputs": [
    {
     "data": {
      "text/plain": [
       "<seaborn.axisgrid.FacetGrid at 0x1e1056f0>"
      ]
     },
     "execution_count": 18,
     "metadata": {},
     "output_type": "execute_result"
    },
    {
     "data": {
      "image/png": "[encoded data removed]",
      "text/plain": [
       "<Figure size 360x360 with 1 Axes>"
      ]
     },
     "metadata": {},
     "output_type": "display_data"
    }
   ],
   "source": [
    "a6 = sns.catplot(y=\"League\",x=\"Count\",data=league_to,kind = \"bar\")\n",
    "a6.set(Title = \"Leagues with Most Players Transferred to\")"
   ]
  },
  {
   "cell_type": "markdown",
   "metadata": {},
   "source": [
    "# Plot displaying leagues to which majority players have transferred from"
   ]
  },
  {
   "cell_type": "code",
   "execution_count": 19,
   "metadata": {
    "scrolled": false
   },
   "outputs": [
    {
     "data": {
      "text/plain": [
       "<seaborn.axisgrid.FacetGrid at 0x1e1afc30>"
      ]
     },
     "execution_count": 19,
     "metadata": {},
     "output_type": "execute_result"
    },
    {
     "data": {
      "image/png": "[encoded data removed]",
      "text/plain": [
       "<Figure size 360x360 with 1 Axes>"
      ]
     },
     "metadata": {},
     "output_type": "display_data"
    }
   ],
   "source": [
    "a7 = sns.catplot(y=\"League\",x=\"Count\",data=league_from,kind = \"bar\")\n",
    "a7.set(xlim = (0,700))\n",
    "a7.set(Title = \"League with Most Players Transferred From\")"
   ]
  },
  {
   "cell_type": "markdown",
   "metadata": {},
   "source": [
    "The two leagues which has seen the majority of Transfer activities are Premier League and Serie A."
   ]
  },
  {
   "cell_type": "markdown",
   "metadata": {},
   "source": [
    "# Teams who have brought in most number of players"
   ]
  },
  {
   "cell_type": "code",
   "execution_count": 20,
   "metadata": {
    "scrolled": true
   },
   "outputs": [
    {
     "data": {
      "text/plain": [
       "<seaborn.axisgrid.FacetGrid at 0x1e1fe670>"
      ]
     },
     "execution_count": 20,
     "metadata": {},
     "output_type": "execute_result"
    },
    {
     "data": {
      "image/png": "[encoded data removed]",
      "text/plain": [
       "<Figure size 360x360 with 1 Axes>"
      ]
     },
     "metadata": {},
     "output_type": "display_data"
    }
   ],
   "source": [
    "a8 = sns.catplot(y=\"Team\",x=\"Count\",data=team_to,kind = \"bar\")\n",
    "a8.set(xlim = (0,100))\n",
    "a8.set(Title = \"Teams with most players transferred to\")"
   ]
  },
  {
   "cell_type": "markdown",
   "metadata": {},
   "source": [
    "# Plot showing the teams where the majority of players have left"
   ]
  },
  {
   "cell_type": "code",
   "execution_count": 21,
   "metadata": {},
   "outputs": [
    {
     "data": {
      "text/plain": [
       "<seaborn.axisgrid.FacetGrid at 0x1e1fe6f0>"
      ]
     },
     "execution_count": 21,
     "metadata": {},
     "output_type": "execute_result"
    },
    {
     "data": {
      "image/png": "[encoded data removed]",
      "text/plain": [
       "<Figure size 360x360 with 1 Axes>"
      ]
     },
     "metadata": {},
     "output_type": "display_data"
    }
   ],
   "source": [
    "a9 = sns.catplot(y=\"Team\",x=\"Count\",data=team_from,kind = \"bar\")\n",
    "a9.set(xlim = (0,120))\n",
    "a9.set(Title = \"Teams with most players transferred from\")"
   ]
  },
  {
   "cell_type": "code",
   "execution_count": null,
   "metadata": {},
   "outputs": [],
   "source": []
  }
 ],
 "metadata": {
  "kernelspec": {
   "display_name": "Python 3",
   "language": "python",
   "name": "python3"
  },
  "language_info": {
   "codemirror_mode": {
    "name": "ipython",
    "version": 3
   },
   "file_extension": ".py",
   "mimetype": "text/x-python",
   "name": "python",
   "nbconvert_exporter": "python",
   "pygments_lexer": "ipython3",
   "version": "3.7.3"
  }
 },
 "nbformat": 4,
 "nbformat_minor": 2
}
